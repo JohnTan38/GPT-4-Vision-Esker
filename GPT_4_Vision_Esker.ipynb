{
 "cells": [
  {
   "cell_type": "code",
   "execution_count": null,
   "metadata": {},
   "outputs": [],
   "source": [
    "!pip install \"openai>=1\""
   ]
  },
  {
   "cell_type": "code",
   "execution_count": null,
   "metadata": {},
   "outputs": [],
   "source": [
    "import cv2\n",
    "from google.colab.patches import cv2_imshow\n",
    "!wget https://raw.githubusercontent.com/JohnTan38/Project-Income-Qualification/main/assets/GOLDBELL_4662000146.JPG\n",
    "img = cv2.imread(\"GOLDBELL_4662000146.JPG\")\n",
    "cv2_imshow(img)"
   ]
  },
  {
   "cell_type": "code",
   "execution_count": null,
   "metadata": {},
   "outputs": [],
   "source": [
    "import os\n",
    "os.environ[\"OPENAI_API_KEY\"] = \"OPENAI_API_KEY\"\n",
    "from openai import OpenAI\n",
    "\n",
    "client = OpenAI()\n",
    "\n",
    "response = client.chat.completions.create(\n",
    "    model=\"gpt-4-vision-preview\",\n",
    "    messages=[\n",
    "        {\n",
    "            \"role\": \"user\",\n",
    "            \"content\": [\n",
    "                {\"type\": \"text\", \"text\": \"What is the PO: ?\"},\n",
    "                {\n",
    "                    \"type\": \"image_url\",\n",
    "                    \"image_url\": \"https://raw.githubusercontent.com/JohnTan38/Project-Income-Qualification/main/assets/GOLDBELL_4662000146.JPG\",\n",
    "                },\n",
    "            ],\n",
    "        },\n",
    "    ],\n",
    "    max_tokens=1000,\n",
    ")"
   ]
  },
  {
   "cell_type": "code",
   "execution_count": null,
   "metadata": {},
   "outputs": [],
   "source": [
    "out = response.choices[0].message.content\n",
    "res = out.replace('\"', '')\n",
    "res = res.replace('.', '')\n",
    "\n",
    "import re\n",
    "import pandas as pd\n",
    "\n",
    "def extract_po_number_and_create_df(text):\n",
    "    pattern = r'(\\d+)$' # Regular expression pattern to match the PO number\n",
    "    \n",
    "    po_number = re.search(pattern, text) # Extract the PO number using the regex pattern\n",
    "    \n",
    "    if po_number:\n",
    "        po_number = po_number.group(1)\n",
    "    else:\n",
    "        po_number = None\n",
    "        \n",
    "    df = pd.DataFrame({'PO_Number': [po_number]}) # Create a DataFrame with the extracted PO number\n",
    "    return df\n",
    "\n",
    "extract_po_number_and_create_df(res)"
   ]
  }
 ],
 "metadata": {
  "language_info": {
   "name": "python"
  }
 },
 "nbformat": 4,
 "nbformat_minor": 2
}
